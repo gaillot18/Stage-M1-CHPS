{
 "cells": [
  {
   "cell_type": "code",
   "execution_count": 1,
   "id": "e0588941-14ed-48db-bee6-e457a2a04cdf",
   "metadata": {},
   "outputs": [],
   "source": [
    "import numpy as np\n",
    "import matplotlib.pyplot as plt\n",
    "import matplotlib.animation as animation\n",
    "from matplotlib.animation import FFMpegWriter"
   ]
  },
  {
   "cell_type": "code",
   "execution_count": 2,
   "id": "6237e872-2cb7-48ee-9436-a693dca8a546",
   "metadata": {},
   "outputs": [],
   "source": [
    "def lire_fichier(fichier : str, N_x : int, N_y : int, N_t : int) -> np.ndarray:\n",
    "    \n",
    "    with open(fichier, 'rb') as f:\n",
    "        u = np.fromfile(f, dtype = np.float64)\n",
    "        u = u.reshape((N_t + 1, N_x + 1, N_y + 1))\n",
    "        \n",
    "    return u"
   ]
  },
  {
   "cell_type": "code",
   "execution_count": 3,
   "id": "ff78ff56-0a7e-4db0-9d58-81c894c5db7a",
   "metadata": {},
   "outputs": [],
   "source": [
    "def generer_images(u : np.ndarray, fichier : str) -> None:\n",
    "\n",
    "    N_t, N_x, N_y = u.shape\n",
    "    vmin, vmax = np.min(u), np.max(u)\n",
    "    fichier = fichier[:-4]\n",
    "    \n",
    "    for t in range(N_t):\n",
    "        \n",
    "        plt.figure(figsize = (10, 8))\n",
    "        plt.imshow(u[t], cmap = 'hot', origin = 'lower', vmin = vmin, vmax = vmax)\n",
    "        plt.title(f\"t = {t}\")\n",
    "        plt.xlabel(\"x\")\n",
    "        plt.ylabel(\"y\")\n",
    "\n",
    "        fichier_image = fichier + \"-t=\" + str(t)\n",
    "        plt.savefig(fichier_image, dpi = 100, bbox_inches = 'tight')\n",
    "        plt.close()"
   ]
  },
  {
   "cell_type": "code",
   "execution_count": 4,
   "id": "54240b02-047b-43fc-9a15-ccd0506c9354",
   "metadata": {},
   "outputs": [],
   "source": [
    "def maj_image(t: int) -> list:\n",
    "    \n",
    "    img.set_array(data[t])\n",
    "    plt.title(f\"t = {t}\")\n",
    "    \n",
    "    return [img]"
   ]
  },
  {
   "cell_type": "code",
   "execution_count": null,
   "id": "27ff6f90-e15d-49fe-b79a-bdd79766b7a9",
   "metadata": {},
   "outputs": [],
   "source": [
    "def generer_animation(u : np.ndarray, fichier : str):\n",
    "    \n",
    "    global data, img\n",
    "    \n",
    "    data = u\n",
    "    N_t, N_x, N_y = u.shape\n",
    "    vmin, vmax = np.min(u), np.max(u)\n",
    "    \n",
    "    fig = plt.figure(figsize = (10, 8))\n",
    "    img = plt.imshow(u[0], cmap = 'hot', origin = 'lower', animated = True, vmin = vmin, vmax = vmax)\n",
    "    plt.xlabel(\"x\")\n",
    "    plt.ylabel(\"y\")\n",
    "    \n",
    "    ani = animation.FuncAnimation(fig, maj_image, frames = N_t, interval = 100 / 6, blit = True)\n",
    "    writer = FFMpegWriter(fps = 60)\n",
    "    ani.save(fichier, writer = writer)\n",
    "    plt.close()"
   ]
  },
  {
   "cell_type": "code",
   "execution_count": null,
   "id": "2e66050f-afae-46ab-9ba6-14632c3b2d6c",
   "metadata": {},
   "outputs": [],
   "source": [
    "u = lire_fichier(\"../Textes/sequentiel-2/resultats.bin\", 200, 200, 200)\n",
    "generer_images(u, \"sequentiel-2/N=200.png\")\n",
    "generer_animation(u, \"sequentiel-2/N=200.mp4\")"
   ]
  }
 ],
 "metadata": {
  "kernelspec": {
   "display_name": "Python 3 (ipykernel)",
   "language": "python",
   "name": "python3"
  },
  "language_info": {
   "codemirror_mode": {
    "name": "ipython",
    "version": 3
   },
   "file_extension": ".py",
   "mimetype": "text/x-python",
   "name": "python",
   "nbconvert_exporter": "python",
   "pygments_lexer": "ipython3",
   "version": "3.10.14"
  }
 },
 "nbformat": 4,
 "nbformat_minor": 5
}
